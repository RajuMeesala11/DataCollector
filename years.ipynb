{
 "cells": [
  {
   "cell_type": "code",
   "execution_count": 1,
   "metadata": {},
   "outputs": [],
   "source": [
    "import pandas as pd\n",
    "\n",
    "# Read the first CSV file\n",
    "df1 = pd.read_csv('datacenters_with_add.csv')\n",
    "\n",
    "# Read the second CSV file\n",
    "df2 = pd.read_csv('datacentersYears.csv')"
   ]
  },
  {
   "cell_type": "code",
   "execution_count": 2,
   "metadata": {},
   "outputs": [
    {
     "name": "stdout",
     "output_type": "stream",
     "text": [
      "          Company Name              Location Name  \\\n",
      "0              Equinix   NY4 Secaucus Data Center   \n",
      "1     QTS Data Centers       Richmond Data Center   \n",
      "2              Equinix      MI1 Miami Data Center   \n",
      "3              Equinix      MI1 Miami Data Center   \n",
      "4              Equinix      MI1 Miami Data Center   \n",
      "...                ...                        ...   \n",
      "3147   Microsoft Azure                  Hillcrest   \n",
      "3148           Edgeuno    DAL1 Dallas Data Center   \n",
      "3149           Edgeuno  JFK1 New York Data Center   \n",
      "3150           Edgeuno     MIA1 Miami Data Center   \n",
      "3151           Edgeuno     MIA1 Miami Data Center   \n",
      "\n",
      "                                                Address   Latitude  Longitude  \\\n",
      "0                  755 Secaucus Road, Secaucus, NJ, USA  40.776428 -74.069776   \n",
      "1          6000 Technology Boulevard, Sandston, VA, USA  37.488827 -77.247490   \n",
      "2               50 Northeast 9th Street, Miami, FL, USA  25.782576 -80.192770   \n",
      "3               50 Northeast 9th Street, Miami, FL, USA  25.782576 -80.192770   \n",
      "4               50 Northeast 9th Street, Miami, FL, USA  25.782576 -80.192770   \n",
      "...                                                 ...        ...        ...   \n",
      "3147                    South Hill, Virginia 23970, USA  36.726545 -78.129131   \n",
      "3148  1990 North Stemmons Freeway, Dallas, Texas 752...  32.799312 -96.821060   \n",
      "3149              60 Hudson St, New York, NY 10013, USA  40.717641 -74.008275   \n",
      "3150            50 NE 9th St, Miami, Florida 33132, USA  25.782576 -80.192770   \n",
      "3151            50 NE 9th St, Miami, Florida 33132, USA  25.782576 -80.192770   \n",
      "\n",
      "                   Street Address            City          State Country  \\\n",
      "0               755 Secaucus Road        Secaucus             NJ     USA   \n",
      "1       6000 Technology Boulevard        Sandston             VA     USA   \n",
      "2         50 Northeast 9th Street           Miami             FL     USA   \n",
      "3         50 Northeast 9th Street           Miami             FL     USA   \n",
      "4         50 Northeast 9th Street           Miami             FL     USA   \n",
      "...                           ...             ...            ...     ...   \n",
      "3147                   South Hill  Virginia 23970            USA     NaN   \n",
      "3148  1990 North Stemmons Freeway          Dallas    Texas 75207     USA   \n",
      "3149                 60 Hudson St        New York       NY 10013     USA   \n",
      "3150                 50 NE 9th St           Miami  Florida 33132     USA   \n",
      "3151                 50 NE 9th St           Miami  Florida 33132     USA   \n",
      "\n",
      "      Year Built_x     Year Built  \n",
      "0              NaN           2001  \n",
      "1              NaN           1998  \n",
      "2              NaN  Not Available  \n",
      "3              NaN  Not Available  \n",
      "4              NaN  Not Available  \n",
      "...            ...            ...  \n",
      "3147           NaN            NaN  \n",
      "3148           NaN            NaN  \n",
      "3149           NaN           1930  \n",
      "3150           NaN           2001  \n",
      "3151           NaN           2001  \n",
      "\n",
      "[3152 rows x 11 columns]\n"
     ]
    }
   ],
   "source": [
    "# Rename columns in df2 for clarity\n",
    "df2.columns = ['Street Address', 'Year Built']\n",
    "\n",
    "# Merge df1 and df2 on 'Street Address'\n",
    "df1 = df1.merge(df2, on='Street Address', how='left')\n",
    "\n",
    "# Update the 'Year Built' column in df1 with the values from the merged dataframe\n",
    "df1['Year Built'] = df1['Year Built_y']\n",
    "df1.drop(columns=['Year Built_y'], inplace=True)\n",
    "\n",
    "# Display the updated dataframe\n",
    "print(df1)"
   ]
  },
  {
   "cell_type": "code",
   "execution_count": 4,
   "metadata": {},
   "outputs": [],
   "source": [
    "df1.to_csv('datacenters_with_years.csv', index=False)"
   ]
  }
 ],
 "metadata": {
  "kernelspec": {
   "display_name": "base",
   "language": "python",
   "name": "python3"
  },
  "language_info": {
   "codemirror_mode": {
    "name": "ipython",
    "version": 3
   },
   "file_extension": ".py",
   "mimetype": "text/x-python",
   "name": "python",
   "nbconvert_exporter": "python",
   "pygments_lexer": "ipython3",
   "version": "3.12.7"
  }
 },
 "nbformat": 4,
 "nbformat_minor": 2
}
